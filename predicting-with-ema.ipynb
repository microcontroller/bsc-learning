{
 "cells": [
  {
   "cell_type": "markdown",
   "id": "3048024d-71f9-4a01-8b5d-4729f66c4914",
   "metadata": {},
   "source": [
    "# Predicting with Exponential Moving Averages\n",
    "\n",
    "I've had some success predicting swings by eyeballing exponential moving averages (EMAs). Now I want to use that idea to backtest against months of PancakeSwap's BNB prediction game."
   ]
  },
  {
   "cell_type": "code",
   "execution_count": 8,
   "id": "71310652-8045-4b79-a126-3084c00f880d",
   "metadata": {},
   "outputs": [],
   "source": [
    "import os\n",
    "import sys\n",
    "import web3\n",
    "import time\n",
    "import json\n",
    "import pandas\n",
    "import requests"
   ]
  },
  {
   "cell_type": "markdown",
   "id": "db5273c0-8eb3-4f42-9239-ddb306bc00fd",
   "metadata": {},
   "source": [
    "## OHLC Data\n",
    "\n",
    "Implement a class that obtains OHLC data from whatever source, can save/load as JSON, and can update on demand."
   ]
  },
  {
   "cell_type": "code",
   "execution_count": 48,
   "id": "482e82d1-423e-48c5-a3e1-39ba79d6d6e9",
   "metadata": {},
   "outputs": [],
   "source": [
    "class OHLCData(dict):\n",
    "    def load(self):\n",
    "        pass\n",
    "    def save(self):\n",
    "        pass\n",
    "    def retrieve(self):\n",
    "        pass\n",
    "    \n",
    "        \n"
   ]
  },
  {
   "cell_type": "markdown",
   "id": "f61932ed-f8ca-4232-a8ca-d674661ce2bb",
   "metadata": {},
   "source": [
    "## Statistics: Exponential Moving Averages\n",
    "\n",
    "Find a way to efficiently go through the OHLC data, collecting the following statistics:\n",
    "* EMA(high, 60)\n",
    "* EMA(high, 20)\n",
    "* EMA(high, 10)\n",
    "* EMA(low,  10)\n",
    "* EMA(low,  20)\n",
    "* EMA(low,  60)\n"
   ]
  },
  {
   "cell_type": "code",
   "execution_count": null,
   "id": "fede1d85-97b5-49db-a40b-f1f52b372142",
   "metadata": {},
   "outputs": [],
   "source": []
  },
  {
   "cell_type": "markdown",
   "id": "7d8da703-b059-48a8-861c-3c485d7ae372",
   "metadata": {},
   "source": [
    "## Prediction Strategies\n",
    "\n",
    "Implement various prediction strategies to be backtested against the data."
   ]
  },
  {
   "cell_type": "code",
   "execution_count": 2,
   "id": "d190949a-694c-4b2d-9952-cac408a89e80",
   "metadata": {},
   "outputs": [],
   "source": [
    "def strategy_biggest(round_info, ohlc):\n",
    "    if round_info.payout_up > round_info.payout_down:\n",
    "        return 'up'\n",
    "    elif round_info.payout_up < round_info.payout_down:\n",
    "        return 'down'\n",
    "    return None\n",
    "\n",
    "def strategy_smallest(round_info, ohlc):\n",
    "    if round_info.payout_up > round_info.payout_down:\n",
    "        return 'down'\n",
    "    elif round_info.payout_up < round_info.payout_down:\n",
    "        return 'up'\n",
    "    return None\n",
    "\n",
    "def strategy_bull(round_info, ohlc):\n",
    "    return 'up'\n",
    "\n",
    "def strategy_bear(round_info, ohlc):\n",
    "    return 'down'\n",
    "\n",
    "strategies = [strategy_biggest, strategy_smallest, strategy_bull, strategy_bear]"
   ]
  },
  {
   "cell_type": "markdown",
   "id": "95fc498e-7f4b-4b44-9872-e92f3ad07d36",
   "metadata": {},
   "source": [
    "## PancakeSwap Prediction Data\n",
    "\n",
    "Implement a class that obtains data about past Prediction games on PancakeSwap, can save/load as JSON, and can update on demand.\n"
   ]
  },
  {
   "cell_type": "code",
   "execution_count": 50,
   "id": "7ac72b6f-bacc-44c0-a906-fafa7cf3a812",
   "metadata": {},
   "outputs": [],
   "source": [
    "class PredictionData(dict):\n",
    "    pks_contract_addr = web3.Web3.toChecksumAddress('0x18b2a687610328590bc8f2e5fedde3b582a49cda')\n",
    "    bsc_data_url      = 'https://bsc-dataseed.binance.org/'\n",
    "    bsc_api_url       = 'https://api.bscscan.com/api'\n",
    "    connection        = None\n",
    "    pks_contract      = None\n",
    "    round_data        = None\n",
    "    \n",
    "    def save(self):\n",
    "        pass\n",
    "    \n",
    "    def load(self):\n",
    "        pass\n",
    "    \n",
    "    def connect(self):\n",
    "        connection = web3.Web3(web3.Web3.HTTPProvider(self.bsc_data_url))\n",
    "        if not connection.isConnected():\n",
    "            self.connection = None\n",
    "            return False\n",
    "        self.connection = connection\n",
    "        return True\n",
    "    \n",
    "    def load_contract(self):\n",
    "        abi_url           = f'{self.bsc_api_url}?module=contract&action=getabi&address={self.pks_contract_addr}'\n",
    "        rr                = requests.get(url = abi_url)\n",
    "        self.abi          = json.loads(rr.json()['result'])\n",
    "        self.pks_contract = self.connection.eth.contract(address= self.pks_contract_addr, abi= self.abi)\n",
    "        self.func_inputs  = {func['name']: func[ 'inputs'] for func in self.abi if 'name' in func and  'inputs' in func}\n",
    "        self.func_outputs = {func['name']: func['outputs'] for func in self.abi if 'name' in func and 'outputs' in func}\n",
    "        return\n",
    "    \n",
    "    def get_round(self, index):\n",
    "        func = self.pks_contract.functions.rounds(index) \n",
    "        rlist = func.call()\n",
    "        return {spec['name']: value for value, spec in zip(rlist, self.func_outputs['rounds'])}\n",
    "    \n",
    "    def update(self):\n",
    "        if self.round_data is None:\n",
    "            self.round_data = {}\n",
    "        for ii in range(epoch):\n",
    "            if ii not in self.round_data:\n",
    "                self.round_data[ii] = self.get_round(ii)\n",
    "        return\n"
   ]
  },
  {
   "cell_type": "code",
   "execution_count": 47,
   "id": "b880bd72-09e6-4cc4-9d22-eb36faa08d20",
   "metadata": {},
   "outputs": [
    {
     "name": "stdout",
     "output_type": "stream",
     "text": [
      "0x18B2A687610328590Bc8F2e5fEdDe3b582A49cdA\n",
      "43826\n",
      "{'bearAmount': 0,\n",
      " 'bullAmount': 15980300212943869,\n",
      " 'closeOracleId': 0,\n",
      " 'closePrice': 0,\n",
      " 'closeTimestamp': 1644478234,\n",
      " 'epoch': 43826,\n",
      " 'lockOracleId': 0,\n",
      " 'lockPrice': 0,\n",
      " 'lockTimestamp': 1644477934,\n",
      " 'oracleCalled': False,\n",
      " 'rewardAmount': 0,\n",
      " 'rewardBaseCalAmount': 0,\n",
      " 'startTimestamp': 1644477634,\n",
      " 'totalAmount': 15980300212943869}\n",
      "{'bearAmount': 20816517738374248164,\n",
      " 'bullAmount': 15577280856444978882,\n",
      " 'closeOracleId': 0,\n",
      " 'closePrice': 0,\n",
      " 'closeTimestamp': 1644477934,\n",
      " 'epoch': 43825,\n",
      " 'lockOracleId': 18446744073710488939,\n",
      " 'lockPrice': 41979000000,\n",
      " 'lockTimestamp': 1644477625,\n",
      " 'oracleCalled': False,\n",
      " 'rewardAmount': 0,\n",
      " 'rewardBaseCalAmount': 0,\n",
      " 'startTimestamp': 1644477325,\n",
      " 'totalAmount': 36393798594819227046}\n",
      "--------------------------------------------------------------------------------\n"
     ]
    }
   ],
   "source": [
    "pred = PredictionData()\n",
    "print(pred.pks_contract_addr)\n",
    "pred.connect()\n",
    "pred.load_contract()\n",
    "now = pred.pks_contract.functions.currentEpoch().call()\n",
    "print(now)\n",
    "pprint.pprint(pred.get_round(now))\n",
    "pprint.pprint(pred.get_round(now - 1))\n",
    "#pred.retrieve_data()\n",
    "print('-'*80)\n",
    "#func = pred.pks_contract.functions.rounds(now-1) \n",
    "#rlist = func.call()\n"
   ]
  },
  {
   "cell_type": "markdown",
   "id": "cd9b93e0-e90e-48a1-a689-c918a64774c1",
   "metadata": {},
   "source": [
    "## Pulling it Together\n",
    "\n",
    "Implement a class or function that loads/updates the OHLC data calculates the statistics on the OHLCs, loads/updates the prediction data, and then backtests a list of prediction strategies, presenting the results in tabular form."
   ]
  },
  {
   "cell_type": "code",
   "execution_count": null,
   "id": "56e29d63-9352-4058-8a00-99abd3ea5c63",
   "metadata": {},
   "outputs": [],
   "source": []
  }
 ],
 "metadata": {
  "kernelspec": {
   "display_name": "Python 3 (ipykernel)",
   "language": "python",
   "name": "python3"
  },
  "language_info": {
   "codemirror_mode": {
    "name": "ipython",
    "version": 3
   },
   "file_extension": ".py",
   "mimetype": "text/x-python",
   "name": "python",
   "nbconvert_exporter": "python",
   "pygments_lexer": "ipython3",
   "version": "3.9.7"
  }
 },
 "nbformat": 4,
 "nbformat_minor": 5
}
