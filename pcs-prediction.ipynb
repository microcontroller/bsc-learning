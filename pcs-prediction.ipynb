{
 "cells": [
  {
   "cell_type": "markdown",
   "id": "d14a11cd-0922-422b-a133-ae4e1ac2559f",
   "metadata": {},
   "source": [
    "# PancakeSwap Prediction Game\n",
    "\n",
    "PCS has a cool WBNB prediction game, where every 5 minutes you get to bid on whether the price will be higher or lower after 5 more minutes. If you're right, you win a multiple of your bid (minus fees). Let's see if we can win a this, and what winning would actually mean."
   ]
  },
  {
   "cell_type": "code",
   "execution_count": 1,
   "id": "bbf1dc05-6e14-475e-aa6c-94df7bc7515e",
   "metadata": {},
   "outputs": [],
   "source": [
    "# Standard library modules\n",
    "import os\n",
    "import sys\n",
    "import math\n",
    "import time\n",
    "import json\n",
    "import random\n",
    "import numbers\n",
    "import datetime\n",
    "\n",
    "# Extra installed modules\n",
    "import web3\n",
    "import tqdm\n",
    "import numpy  as np\n",
    "import pandas as pd\n",
    "import requests\n",
    "import matplotlib.pyplot as plt\n",
    "import mplfinance as mpf\n",
    "%matplotlib widget\n",
    "\n",
    "# My own functions for analysis of BSC data\n",
    "import bsc_analysis"
   ]
  },
  {
   "cell_type": "code",
   "execution_count": 2,
   "id": "6ef2e732-13a9-4886-ba0d-239cf0e9d427",
   "metadata": {},
   "outputs": [
    {
     "data": {
      "text/plain": [
       "<module 'bsc_analysis' from '/home/jovyan/repos/bsc-learning/bsc_analysis.py'>"
      ]
     },
     "execution_count": 2,
     "metadata": {},
     "output_type": "execute_result"
    }
   ],
   "source": [
    "# For when I change the bsc_analysis module\n",
    "import importlib\n",
    "importlib.reload(bsc_analysis)"
   ]
  },
  {
   "cell_type": "markdown",
   "id": "37d3d843-7caa-4bf2-91fc-614662c9c194",
   "metadata": {
    "tags": []
   },
   "source": [
    "## PancakeSwap Prediction Data\n",
    "\n",
    "Implement a class that obtains data about past Prediction games on PancakeSwap, can save/load as JSON, and can update on demand.\n"
   ]
  },
  {
   "cell_type": "code",
   "execution_count": 3,
   "id": "dc6a2c69-0962-4d80-bcf3-ed71d2b42f7d",
   "metadata": {},
   "outputs": [],
   "source": [
    "class PredictionData(dict):\n",
    "    storage_file      = 'pcs_prediction.json'\n",
    "    pks_contract_addr = web3.Web3.toChecksumAddress('0x18b2a687610328590bc8f2e5fedde3b582a49cda')\n",
    "    bsc_data_url      = 'https://bsc-dataseed.binance.org/'\n",
    "    bsc_api_url       = 'https://api.bscscan.com/api'\n",
    "    connection        = None\n",
    "    pks_contract      = None\n",
    "    data              = None\n",
    "    n_rounds          = 0\n",
    "    \n",
    "    def __init__(self, filename= None):\n",
    "        self.data = {}\n",
    "        if filename is not None:\n",
    "            self.storage_file = filename\n",
    "        self.load()\n",
    "        self.connect()\n",
    "        self.load_contract()\n",
    "        self.update()\n",
    "        return\n",
    "    \n",
    "    def __len__(self):\n",
    "        return self.n_rounds\n",
    "    \n",
    "    def __getitem__(self, key):\n",
    "        if isinstance(key, numbers.Number):\n",
    "            return self.data[str(key)]\n",
    "        return self.data[key]\n",
    "    \n",
    "    def save(self):\n",
    "        if not self.data:\n",
    "            return\n",
    "        try:\n",
    "            with open(self.storage_file, 'w') as outfile:\n",
    "                json.dump(self.data, outfile)\n",
    "                print(f'Saved {len(self.data)} rounds to storage file')\n",
    "        except Exception as err:\n",
    "            print(f'Unable to save storage file: {err}')\n",
    "        return\n",
    "    \n",
    "    def load(self):\n",
    "        try:\n",
    "            with open(self.storage_file, 'r') as infile:\n",
    "                self.data = json.load(infile)\n",
    "                print(f'Loaded {len(self.data)} rounds from storage file')\n",
    "        except Exception as err:\n",
    "            print(f'Unable to load storage file: {err}')\n",
    "        return\n",
    "    \n",
    "    def keys(self):\n",
    "        if self.data is not None:\n",
    "            return self.data.keys()\n",
    "        return\n",
    "    \n",
    "    def items(self):\n",
    "        if self.data is not None:\n",
    "            return self.data.items()\n",
    "        return\n",
    "    \n",
    "    def connect(self):\n",
    "        connection = web3.Web3(web3.Web3.HTTPProvider(self.bsc_data_url))\n",
    "        if not connection.isConnected():\n",
    "            self.connection = None\n",
    "            return False\n",
    "        self.connection = connection\n",
    "        print('Connected')\n",
    "        return True\n",
    "    \n",
    "    def load_contract(self):\n",
    "        abi_url           = f'{self.bsc_api_url}?module=contract&action=getabi&address={self.pks_contract_addr}'\n",
    "        rr                = requests.get(url = abi_url)\n",
    "        self.abi          = json.loads(rr.json()['result'])\n",
    "        self.pks_contract = self.connection.eth.contract(address= self.pks_contract_addr, abi= self.abi)\n",
    "        self.func_inputs  = {func['name']: func[ 'inputs'] for func in self.abi if 'name' in func and  'inputs' in func}\n",
    "        self.func_outputs = {func['name']: func['outputs'] for func in self.abi if 'name' in func and 'outputs' in func}\n",
    "        print('PKS Prediction Contract Loaded')\n",
    "        return\n",
    "    \n",
    "    def get_round(self, index):\n",
    "        func = self.pks_contract.functions.rounds(index) \n",
    "        rlist = func.call()\n",
    "        return {spec['name']: value for value, spec in zip(rlist, self.func_outputs['rounds'])}\n",
    "    \n",
    "    def update(self):\n",
    "        if self.data is None:\n",
    "            self.data = {}\n",
    "        self.n_rounds = self.pks_contract.functions.currentEpoch().call()\n",
    "        n_pulled = 0\n",
    "        n_saved  = 0\n",
    "        for ii in tqdm.tqdm(range(self.n_rounds)):\n",
    "            iis = str(ii)\n",
    "            if iis not in self.data:\n",
    "                self.data[iis] = self.get_round(ii)\n",
    "                n_pulled += 1\n",
    "                if n_pulled > 5000:\n",
    "                    self.save()\n",
    "                    n_saved += n_pulled\n",
    "                    n_pulled = 0\n",
    "        self.save()\n",
    "        return"
   ]
  },
  {
   "cell_type": "markdown",
   "id": "e490e7ef-2430-4498-b179-388577532351",
   "metadata": {
    "tags": []
   },
   "source": [
    "## Prediction Strategies\n",
    "\n",
    "Implement various prediction strategies to be backtested against the data."
   ]
  },
  {
   "cell_type": "code",
   "execution_count": 4,
   "id": "1731acef-63c5-475c-beec-69c700c7b2e3",
   "metadata": {},
   "outputs": [],
   "source": [
    "def strategy_biggest(round_info, ohlc_stats):\n",
    "    if round_info['up payout'] > round_info['down payout']:\n",
    "        return 'up'\n",
    "    elif round_info['up payout'] < round_info['down payout']:\n",
    "        return 'down'\n",
    "    return None\n",
    "\n",
    "def strategy_smallest(round_info, ohlc_stats):\n",
    "    if round_info['up payout'] > round_info['down payout']:\n",
    "        return 'down'\n",
    "    elif round_info['up payout'] < round_info['down payout']:\n",
    "        return 'up'\n",
    "    return None\n",
    "\n",
    "def strategy_bull(round_info, ohlc_stats):\n",
    "    return 'up'\n",
    "\n",
    "def strategy_bear(round_info, ohlc_stats):\n",
    "    return 'down'\n",
    "\n",
    "basic_setup = {\n",
    "    'starting bnb': 1,\n",
    "    'betting bnb' : 0.001,\n",
    "    'winnings tax': 0.03,\n",
    "    'betting fee' : 0.0006,\n",
    "}\n",
    "\n",
    "bold_setup = {\n",
    "    'starting bnb': 4,\n",
    "    'betting bnb' : 0.001,\n",
    "    'winnings tax': 0.03,\n",
    "    'betting fee' : 0.0006,\n",
    "}\n",
    "\n",
    "free_setup = {\n",
    "    'starting bnb': 1,\n",
    "    'betting bnb' : 0.001,\n",
    "    'winnings tax': 0.03,\n",
    "    'betting fee' : 0,\n",
    "}"
   ]
  },
  {
   "cell_type": "code",
   "execution_count": 5,
   "id": "d0efd19d-e8aa-4d9a-b75d-ff66ec0af7aa",
   "metadata": {},
   "outputs": [],
   "source": [
    "def strategy_ema_1(round_info, ohlc_stats, verbose= False):\n",
    "    start = datetime.datetime.fromtimestamp(round_info['startTimestamp'])\n",
    "    lock  = datetime.datetime.fromtimestamp(round_info['lockTimestamp'])\n",
    "    close = datetime.datetime.fromtimestamp(round_info['closeTimestamp'])\n",
    "    # Pull EMA data at 1 minute prior to the lock time\n",
    "    pull  = (lock - datetime.timedelta(minutes= 1)).replace(second= 0, microsecond=0)\n",
    "    \n",
    "    if verbose:\n",
    "        print(f'Round {round_info[\"epoch\"]}: [{start}] - [{close}], locked at [{lock}], pull OHLC from [{pull}]')\n",
    "    isopull = pull.isoformat()\n",
    "    try:\n",
    "        oo, hh, ll, cc, tt = ohlc = stats.data.loc[isopull].values[0]\n",
    "        emas  = stats.emas.loc[isopull].todict()\n",
    "        cross = stats.cross.loc[isopull].todict()\n",
    "    except:\n",
    "        return\n",
    "        \n",
    "    if verbose:\n",
    "        print(f'OHLC: {oo} {hh} {ll} {cc} {tt}')\n",
    "        print(emas)\n",
    "        print(cross)\n",
    "    \n",
    "    # If the price keeps rising, take note\n",
    "    try:\n",
    "        if hh > emas['ema_high_10'] > emas['ema_high_20'] > emas['ema_high_60'] > emas['ema_high_120']:\n",
    "            #if cross['xover_[high]_[ema_high_10]'] < 10:\n",
    "            return 'up'\n",
    "    except Exception as err:\n",
    "        vat = lambda x: f'[{x}:{type(x)}]'\n",
    "        print(f'{isopull}: ({vat(oo)}, {vat(hh)}, {vat(ll)}, {vat(cc)}, {vat(tt)}) {vat(emas[\"ema_high_10\"])} {vat(emas[\"ema_high_20\"])} {vat(emas[\"ema_high_60\"])} {vat(emas[\"ema_high_120\"])}')\n",
    "        print(err)\n",
    "    #if hh > highs[0] > highs[1] > highs[2] and ll > lows[0] > lows[1] > lows[2] and round_info['up payout'] > min(2.5, round_info['down payout']):\n",
    "    #    return 'up'\n",
    "    #if hh < highs[0] < highs[1] < highs[2] and ll < lows[0] < lows[1] < lows[2] and round_info['down payout'] > min(2.5, round_info['up payout']):\n",
    "    #    return 'down'\n",
    "    return None\n",
    "\n",
    "basic_strategies = {\n",
    "    'Always pick biggest payout' : strategy_biggest,\n",
    "    'Always pick smallest payout': strategy_smallest,\n",
    "    'Always pick up'             : strategy_bull,\n",
    "    'Always pick down'           : strategy_bear,\n",
    "    'Only pick obvious runs'     : strategy_ema_1,\n",
    "}"
   ]
  },
  {
   "cell_type": "code",
   "execution_count": 6,
   "id": "ef7f1401-fb4a-419a-b76c-53ee0ccd2e2f",
   "metadata": {},
   "outputs": [],
   "source": [
    "def reference_strategy_generator(rate=0.7):\n",
    "    def gen(round_info, ohlc_stats):\n",
    "        win  = (round_info['closePrice'] > round_info['lockPrice']) and 'up' or 'down'\n",
    "        lose = (round_info['closePrice'] > round_info['lockPrice']) and 'down' or 'up'\n",
    "        coin = random.random()\n",
    "        if coin < rate:\n",
    "            return win\n",
    "        return lose\n",
    "    return gen\n",
    "\n",
    "ref_strategies = {f'{pp:2d}% success rate': reference_strategy_generator(pp / 100.) for pp in range(80,101, 5)}"
   ]
  },
  {
   "cell_type": "markdown",
   "id": "d11af86b-6dff-4fb5-95ff-0785de376bb6",
   "metadata": {
    "tags": []
   },
   "source": [
    "## Loading The Data\n",
    "\n",
    "Get the PCS prediction data. Then get OHLCs for WBNB.\n",
    "\n",
    "The bsc_analysis module includes an OHLCData class that obtains OHLC data from whatever source, can save/load as JSON, and can update on demand. There's also an OHLCStats class that calculates EMAs and crossing points. Both are thin wrappers around DataFrames."
   ]
  },
  {
   "cell_type": "code",
   "execution_count": 7,
   "id": "e3b67d0a-88ba-44ee-bfa3-4f43729a4cff",
   "metadata": {},
   "outputs": [
    {
     "name": "stdout",
     "output_type": "stream",
     "text": [
      "Loaded 49521 rounds from storage file\n",
      "Connected\n",
      "PKS Prediction Contract Loaded\n"
     ]
    },
    {
     "name": "stderr",
     "output_type": "stream",
     "text": [
      "100%|██████████| 49533/49533 [00:00<00:00, 56685.47it/s] \n"
     ]
    },
    {
     "name": "stdout",
     "output_type": "stream",
     "text": [
      "Saved 49533 rounds to storage file\n"
     ]
    }
   ],
   "source": [
    "pred = PredictionData()"
   ]
  },
  {
   "cell_type": "code",
   "execution_count": 8,
   "id": "1a31fc8f-e042-495a-9658-5315c965906f",
   "metadata": {},
   "outputs": [
    {
     "name": "stdout",
     "output_type": "stream",
     "text": [
      "Loaded 244 days of OHLC from storage file\n",
      "Retrieving data:\n"
     ]
    },
    {
     "name": "stderr",
     "output_type": "stream",
     "text": [
      "OHLC data [2022-03-01] pulled=   0 saved=   0 : 100%|██████████| 244/244 [00:01<00:00, 164.78it/s]\n"
     ]
    },
    {
     "name": "stdout",
     "output_type": "stream",
     "text": [
      "Saved 244 days of OHLC to storage file\n"
     ]
    }
   ],
   "source": [
    "ohlc = bsc_analysis.OHLCData(start_date='2021-07-01')\n",
    "stats = bsc_analysis.OHLCStats(ohlc.data)"
   ]
  },
  {
   "cell_type": "markdown",
   "id": "ad953ec0-9028-4dad-9454-053d05dabd5c",
   "metadata": {
    "tags": []
   },
   "source": [
    "## Pulling it Together\n",
    "\n",
    "Load/update the prediction data, and then backtest a list of prediction strategies, presenting the results in tabular form."
   ]
  },
  {
   "cell_type": "code",
   "execution_count": 9,
   "id": "70464360-5db5-4ca5-8116-9e25909329a3",
   "metadata": {},
   "outputs": [],
   "source": [
    "def evaluate_strategies(setup, strategies, stats):\n",
    "    for strategy in strategies:\n",
    "        evaluator = strategies[strategy]\n",
    "        n_played  = 0\n",
    "        n_won     = 0\n",
    "        n_lost    = 0\n",
    "        n_zero    = 0\n",
    "        n_skip    = 0\n",
    "        n_iter    = 0\n",
    "        balance   = setup['starting bnb']\n",
    "        for rr in range(len(pred)):\n",
    "            n_iter += 1\n",
    "            if pred[rr]['totalAmount'] == 0 or pred[rr]['bullAmount'] == 0 or pred[rr]['bearAmount'] == 0:\n",
    "                n_zero += 1\n",
    "                continue\n",
    "\n",
    "            # Calculate on win, payout on win, including our contrbution to the pool\n",
    "            pred[rr]['up payout'  ] = (pred[rr]['totalAmount'] + setup['betting bnb']) / (pred[rr]['bullAmount'] + setup['betting bnb'])\n",
    "            pred[rr]['down payout'] = (pred[rr]['totalAmount'] + setup['betting bnb']) / (pred[rr]['bearAmount'] + setup['betting bnb'])            \n",
    "            bet = evaluator(pred[rr], stats)\n",
    "            if bet:\n",
    "                n_played   += 1\n",
    "                balance    -= setup['betting bnb'] + setup['betting fee']\n",
    "                went_up     = pred[rr]['closePrice'] > pred[rr]['lockPrice']\n",
    "                if bet == 'up' and went_up:\n",
    "                    n_won   += 1\n",
    "                    balance += setup['betting bnb'] * pred[rr]['up payout'  ] * (1 - setup['winnings tax'])\n",
    "                elif bet == 'down' and not went_up:\n",
    "                    n_won   += 1\n",
    "                    balance += setup['betting bnb'] * pred[rr]['down payout'] * (1 - setup['winnings tax'])\n",
    "                else:\n",
    "                    n_lost  += 1\n",
    "                if balance < setup['betting bnb'] + setup['betting fee']:\n",
    "                    break\n",
    "            else:\n",
    "                n_skip += 1\n",
    "        pnl = 100 * (balance / setup['starting bnb'] - 1)\n",
    "        judgement = (-0.05 < pnl < 0.05 and \"BREAK-EVEN\") or (pnl < -99. and \"BANKRUPT\") or (pnl < 0 and \"LOSS\") or \"WIN\"\n",
    "        print(f'{strategy:30}: played={n_played:5} won={n_won:6} lost={n_lost:6} skip={n_skip:6} balance={balance:9.5f} pnl%={pnl:9.5f} {judgement}')"
   ]
  },
  {
   "cell_type": "code",
   "execution_count": 10,
   "id": "658c32ad-649b-4626-b4de-ccb484de40e0",
   "metadata": {},
   "outputs": [
    {
     "name": "stdout",
     "output_type": "stream",
     "text": [
      "FREE SETUP, BASIC STRATEGIES\n",
      "Always pick biggest payout    : played=49447 won= 22358 lost= 27089 skip=     0 balance=  2.56958 pnl%=156.95752 WIN\n",
      "Always pick smallest payout   : played=13301 won=  7121 lost=  6180 skip=     0 balance=  0.00093 pnl%=-99.90667 BANKRUPT\n",
      "Always pick up                : played=37667 won= 18940 lost= 18727 skip=     0 balance=  0.00004 pnl%=-99.99555 BANKRUPT\n",
      "Always pick down              : played=49447 won= 24548 lost= 24899 skip=     0 balance=  0.71644 pnl%=-28.35635 LOSS\n",
      "Only pick obvious runs        : played=    0 won=     0 lost=     0 skip= 49447 balance=  1.00000 pnl%=  0.00000 BREAK-EVEN\n",
      "--------------------------------------------------------------------------------\n",
      "BASIC SETUP, BASIC STRATEGIES\n",
      "Always pick biggest payout    : played= 2069 won=   974 lost=  1095 skip=     0 balance=  0.00083 pnl%=-99.91704 BANKRUPT\n",
      "Always pick smallest payout   : played= 1393 won=   733 lost=   660 skip=     0 balance=  0.00060 pnl%=-99.94022 BANKRUPT\n",
      "Always pick up                : played= 1553 won=   766 lost=   787 skip=     0 balance=  0.00059 pnl%=-99.94115 BANKRUPT\n",
      "Always pick down              : played= 1814 won=   904 lost=   910 skip=     0 balance=  0.00146 pnl%=-99.85354 BANKRUPT\n",
      "Only pick obvious runs        : played=    0 won=     0 lost=     0 skip= 49447 balance=  1.00000 pnl%=  0.00000 BREAK-EVEN\n",
      "--------------------------------------------------------------------------------\n",
      "BOLD SETUP, BASIC STRATEGIES\n",
      "Always pick biggest payout    : played= 7498 won=  3483 lost=  4015 skip=     0 balance=  0.00084 pnl%=-99.97900 BANKRUPT\n",
      "Always pick smallest payout   : played= 5899 won=  3168 lost=  2731 skip=     0 balance=  0.00071 pnl%=-99.98220 BANKRUPT\n",
      "Always pick up                : played= 6324 won=  3202 lost=  3122 skip=     0 balance=  0.00153 pnl%=-99.96182 BANKRUPT\n",
      "Always pick down              : played= 6958 won=  3462 lost=  3496 skip=     0 balance=  0.00128 pnl%=-99.96797 BANKRUPT\n",
      "Only pick obvious runs        : played=    0 won=     0 lost=     0 skip= 49447 balance=  4.00000 pnl%=  0.00000 BREAK-EVEN\n",
      "--------------------------------------------------------------------------------\n",
      "FREE SETUP, REFERENCE STRATEGIES\n",
      "80% success rate              : played=49447 won= 39804 lost=  9643 skip=     0 balance= 29.95070 pnl%=2895.06993 WIN\n",
      "85% success rate              : played=49447 won= 41945 lost=  7502 skip=     0 balance= 34.12402 pnl%=3312.40233 WIN\n",
      "90% success rate              : played=49447 won= 44666 lost=  4781 skip=     0 balance= 39.51935 pnl%=3851.93548 WIN\n",
      "95% success rate              : played=49447 won= 46983 lost=  2464 skip=     0 balance= 44.05097 pnl%=4305.09695 WIN\n",
      "100% success rate             : played=49447 won= 49447 lost=     0 skip=     0 balance= 48.88360 pnl%=4788.36041 WIN\n",
      "--------------------------------------------------------------------------------\n",
      "BASIC SETUP, REFERENCE STRATEGIES\n",
      "80% success rate              : played=38894 won= 31063 lost=  7831 skip=     0 balance=  0.00059 pnl%=-99.94064 BANKRUPT\n",
      "85% success rate              : played=49447 won= 42083 lost=  7364 skip=     0 balance=  4.72241 pnl%=372.24052 WIN\n",
      "90% success rate              : played=49447 won= 44606 lost=  4841 skip=     0 balance=  9.68847 pnl%=868.84714 WIN\n",
      "95% success rate              : played=49447 won= 47040 lost=  2407 skip=     0 balance= 14.40508 pnl%=1340.50812 WIN\n",
      "100% success rate             : played=49447 won= 49447 lost=     0 skip=     0 balance= 19.21540 pnl%=1821.54041 WIN\n",
      "--------------------------------------------------------------------------------\n",
      "BOLD SETUP, REFERENCE STRATEGIES\n",
      "80% success rate              : played=49447 won= 39451 lost=  9996 skip=     0 balance=  2.50211 pnl%=-37.44719 LOSS\n",
      "85% success rate              : played=49447 won= 41837 lost=  7610 skip=     0 balance=  7.26949 pnl%= 81.73720 WIN\n",
      "90% success rate              : played=49447 won= 44548 lost=  4899 skip=     0 balance= 12.65329 pnl%=216.33232 WIN\n",
      "95% success rate              : played=49447 won= 47025 lost=  2422 skip=     0 balance= 17.46409 pnl%=336.60221 WIN\n",
      "100% success rate             : played=49447 won= 49447 lost=     0 skip=     0 balance= 22.21540 pnl%=455.38510 WIN\n"
     ]
    }
   ],
   "source": [
    "print('FREE SETUP, BASIC STRATEGIES')\n",
    "evaluate_strategies(free_setup, basic_strategies, stats)\n",
    "print('-'*80)\n",
    "print('BASIC SETUP, BASIC STRATEGIES')\n",
    "evaluate_strategies(basic_setup, basic_strategies, stats)\n",
    "print('-'*80)\n",
    "print('BOLD SETUP, BASIC STRATEGIES')\n",
    "evaluate_strategies(bold_setup, basic_strategies, stats)\n",
    "print('-'*80)\n",
    "print('FREE SETUP, REFERENCE STRATEGIES')\n",
    "evaluate_strategies(free_setup, ref_strategies, stats)\n",
    "print('-'*80)\n",
    "print('BASIC SETUP, REFERENCE STRATEGIES')\n",
    "evaluate_strategies(basic_setup, ref_strategies, stats)\n",
    "print('-'*80)\n",
    "print('BOLD SETUP, REFERENCE STRATEGIES')\n",
    "evaluate_strategies(bold_setup, ref_strategies, stats)"
   ]
  },
  {
   "cell_type": "markdown",
   "id": "cd37de81-e71e-48fd-b8c1-590d5d4a96f9",
   "metadata": {},
   "source": [
    "Conclusion: We need over 80% success rate to make anything at PCS prediction. I'm nowhere near that level, and if I were, there are easier ways to make money."
   ]
  }
 ],
 "metadata": {
  "kernelspec": {
   "display_name": "Python 3 (ipykernel)",
   "language": "python",
   "name": "python3"
  },
  "language_info": {
   "codemirror_mode": {
    "name": "ipython",
    "version": 3
   },
   "file_extension": ".py",
   "mimetype": "text/x-python",
   "name": "python",
   "nbconvert_exporter": "python",
   "pygments_lexer": "ipython3",
   "version": "3.9.10"
  }
 },
 "nbformat": 4,
 "nbformat_minor": 5
}
